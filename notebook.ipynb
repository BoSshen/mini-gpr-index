{
 "cells": [
  {
   "cell_type": "markdown",
   "id": "631dc49f",
   "metadata": {},
   "source": [
    "# 🏗️ Step 1: Download REIT Stock Data"
   ]
  },
  {
   "cell_type": "code",
   "execution_count": null,
   "id": "afafe41b",
   "metadata": {},
   "outputs": [],
   "source": [
    "import yfinance as yf\n",
    "import pandas as pd\n",
    "import os\n",
    "\n",
    "# 设置股票代码（房地产相关）\n",
    "tickers = ['PLD', 'SPG', 'O']  # Prologis, Simon Property, Realty Income\n",
    "start_date = '2020-01-01'\n",
    "end_date = '2024-01-01'\n",
    "data_path = 'data/'\n",
    "\n",
    "# 下载股票数据并保存为 CSV 文件\n",
    "for ticker in tickers:\n",
    "    stock = yf.download(ticker, start=start_date, end=end_date)\n",
    "    stock.to_csv(os.path.join(data_path, f\"{ticker}.csv\"))\n",
    "    print(f\"{ticker} data saved.\")\n"
   ]
  }
 ],
 "metadata": {},
 "nbformat": 4,
 "nbformat_minor": 5
}
